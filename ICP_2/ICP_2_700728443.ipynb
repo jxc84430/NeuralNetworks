{
 "cells": [
  {
   "cell_type": "markdown",
   "id": "e1f35ca4",
   "metadata": {},
   "source": [
    "## Spring 2023 : CS5720\n",
    "### Neural Networks & Deep Learning ICP_2 : Jahnavi Chadalavada (700728443)"
   ]
  },
  {
   "cell_type": "markdown",
   "id": "750a80d4",
   "metadata": {},
   "source": [
    "### 1. Write a program that takes two strings from the user: first_name, last_name. Pass these variables to fullname function that should return the (full name)"
   ]
  },
  {
   "cell_type": "code",
   "execution_count": 1,
   "id": "632387b5",
   "metadata": {},
   "outputs": [],
   "source": [
    "def full_name(first_name,last_name):\n",
    "    return \" \".join([first_name.strip(),last_name.strip()]) #concatenates first & last names"
   ]
  },
  {
   "cell_type": "markdown",
   "id": "c5aaf668",
   "metadata": {},
   "source": [
    "### Write function named “string_alternative” that returns every other char in the full_name string."
   ]
  },
  {
   "cell_type": "code",
   "execution_count": 2,
   "id": "2a5abde7",
   "metadata": {},
   "outputs": [],
   "source": [
    "def string_alternative(fullname):\n",
    "    return fullname[::2] # takes only alternate character in a string"
   ]
  },
  {
   "cell_type": "markdown",
   "id": "0b968c9d",
   "metadata": {},
   "source": [
    "### 2. Write a python program to find the wordcount in a file (input.txt) for each line and then print the output."
   ]
  },
  {
   "cell_type": "code",
   "execution_count": 3,
   "id": "f3a38893",
   "metadata": {},
   "outputs": [],
   "source": [
    "def wordcount():\n",
    "        with open(\"input.txt\", \"r\") as input_file : # reads data from input file \n",
    "            lines = input_file.read()  \n",
    "                        \n",
    "        output_file = open(\"output.txt\", \"w\") # write data to output file \n",
    "        output_file.writelines(lines)\n",
    "        output_file.write(\"\\nWord_Count : \")\n",
    "       \n",
    "        print(\"INPUT : \")\n",
    "        print(lines)\n",
    "        \n",
    "        print(\"\\nOUTPUT : \")\n",
    "        print(\"\\nWord_Count : \")\n",
    "        \n",
    "        word_counts = {}\n",
    "        lines = lines.replace(\"\\n\",\" \").strip().split(\" \") # split into words\n",
    "        \n",
    "        for word in lines:\n",
    "            word_counts[word] = word_counts.get(word, 0) + 1 # counts words\n",
    "            \n",
    "        for key,values in word_counts.items():\n",
    "            op =  \"\\n\"+key+\" : \"+str(values)\n",
    "            output_file.write(op)      # write output to file\n",
    "            print(op)\n",
    "                    \n",
    "        output_file.close()       "
   ]
  },
  {
   "cell_type": "markdown",
   "id": "1fbf8593",
   "metadata": {},
   "source": [
    "### 3. Write a program, which reads heights (inches.) customers into a list and convert these heights to centimeters in a separate list using:"
   ]
  },
  {
   "cell_type": "code",
   "execution_count": 4,
   "id": "04faa8cf",
   "metadata": {},
   "outputs": [],
   "source": [
    "def inch_to_cm_converter():\n",
    "    cms = []\n",
    "    inches = []\n",
    "    \n",
    "    while True: # Interactive loop, takes input untill 0 or a negative number is eneterd\n",
    "        try:\n",
    "            #accepts only numbers\n",
    "            print(\"Enter 0 or a -ve number to quit !!!\")\n",
    "            height = float(input(\"Please enter the heigth inches : \"))\n",
    "          \n",
    "            if height<=0:\n",
    "                break\n",
    "            else:\n",
    "                inches.append(height) # adding heights into a list\n",
    "            \n",
    "        except:\n",
    "            print(\"Only numbers are allowed.Please try again\")\n",
    "        \n",
    "    for item in inches:\n",
    "        cms.append(item*2.54) # converts inches to centimeters\n",
    "    \n",
    "    print(\"\\n Inches List : \", inches)\n",
    "    print(\"\\n1. For Loop - Centimeters List : \",cms)   \n",
    "    print(\"\\n2. List comprehensions - Centimeters List : \",[item*2.54 for item in inches])\n",
    "    "
   ]
  },
  {
   "cell_type": "markdown",
   "id": "9cd4a5d2",
   "metadata": {},
   "source": [
    "### Main function which calls all other functions"
   ]
  },
  {
   "cell_type": "code",
   "execution_count": 5,
   "id": "a86b1ad3",
   "metadata": {},
   "outputs": [],
   "source": [
    "def main():\n",
    "    \n",
    "    print(\"----- Question 1 -----\")\n",
    "    \n",
    "    first_name = input(\"Please enter your First Name : \")\n",
    "    last_name = input(\"Please enter your Last Name : \")\n",
    "    \n",
    "    fullName = full_name(first_name,last_name)\n",
    "    \n",
    "    print(\"\\nYour Full Name is : \",fullName)\n",
    "    print(\"\\nAlternative Char in string is. : \",string_alternative(fullName))\n",
    "    \n",
    "    print(\"\\n----- Question 2 -----\")\n",
    "    wordcount()\n",
    "    \n",
    "    print(\"\\n----- Question 3 -----\")\n",
    "    inch_to_cm_converter()\n",
    "   \n"
   ]
  },
  {
   "cell_type": "markdown",
   "id": "9fe170f4",
   "metadata": {},
   "source": [
    "### Run main function to see the output"
   ]
  },
  {
   "cell_type": "code",
   "execution_count": 6,
   "id": "4cb69071",
   "metadata": {},
   "outputs": [
    {
     "name": "stdout",
     "output_type": "stream",
     "text": [
      "----- Question 1 -----\n",
      "Please enter your First Name : Jahnavi\n",
      "Please enter your Last Name : Chadalavada\n",
      "\n",
      "Your Full Name is :  Jahnavi Chadalavada\n",
      "\n",
      "Alternative Char in string is. :  JhaiCaaaaa\n",
      "\n",
      "----- Question 2 -----\n",
      "INPUT : \n",
      "Python Course\n",
      "Deep Learning Course\n",
      "\n",
      "\n",
      "OUTPUT : \n",
      "\n",
      "Word_Count : \n",
      "\n",
      "Python : 1\n",
      "\n",
      "Course : 2\n",
      "\n",
      "Deep : 1\n",
      "\n",
      "Learning : 1\n",
      "\n",
      "----- Question 3 -----\n",
      "Enter 0 or a -ve number to quit !!!\n",
      "Please enter the heigth inches : 150\n",
      "Enter 0 or a -ve number to quit !!!\n",
      "Please enter the heigth inches : 155\n",
      "Enter 0 or a -ve number to quit !!!\n",
      "Please enter the heigth inches : 145\n",
      "Enter 0 or a -ve number to quit !!!\n",
      "Please enter the heigth inches : 148\n",
      "Enter 0 or a -ve number to quit !!!\n",
      "Please enter the heigth inches : 0\n",
      "\n",
      " Inches List :  [150.0, 155.0, 145.0, 148.0]\n",
      "\n",
      "1. For Loop - Centimeters List :  [381.0, 393.7, 368.3, 375.92]\n",
      "\n",
      "2. List comprehensions - Centimeters List :  [381.0, 393.7, 368.3, 375.92]\n"
     ]
    }
   ],
   "source": [
    "main()"
   ]
  },
  {
   "cell_type": "code",
   "execution_count": null,
   "id": "63baad16",
   "metadata": {},
   "outputs": [],
   "source": []
  }
 ],
 "metadata": {
  "kernelspec": {
   "display_name": "Python 3.9 (tensorflow)",
   "language": "python",
   "name": "tensorflow"
  },
  "language_info": {
   "codemirror_mode": {
    "name": "ipython",
    "version": 3
   },
   "file_extension": ".py",
   "mimetype": "text/x-python",
   "name": "python",
   "nbconvert_exporter": "python",
   "pygments_lexer": "ipython3",
   "version": "3.9.13"
  }
 },
 "nbformat": 4,
 "nbformat_minor": 5
}
