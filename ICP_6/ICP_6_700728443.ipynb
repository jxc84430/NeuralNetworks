{
  "nbformat": 4,
  "nbformat_minor": 0,
  "metadata": {
    "colab": {
      "provenance": [],
      "toc_visible": true
    },
    "kernelspec": {
      "name": "python3",
      "display_name": "Python 3"
    },
    "language_info": {
      "name": "python"
    }
  },
  "cells": [
    {
      "cell_type": "markdown",
      "source": [
        "## **Spring 2023 : CS5720**\n",
        "\n",
        "\n",
        "### Neural Networks & Deep Learning ICP_6 : Jahnavi Chadalavada (700728443) \n"
      ],
      "metadata": {
        "id": "wSYX67Jy8w7T"
      }
    },
    {
      "cell_type": "markdown",
      "source": [
        "### Mount Google Drive"
      ],
      "metadata": {
        "id": "aRaC_8X08yET"
      }
    },
    {
      "cell_type": "code",
      "source": [
        "from google.colab import drive \n",
        "drive.mount('/Neural_Networks') \n"
      ],
      "metadata": {
        "id": "IAkuI0Xb0ouH",
        "colab": {
          "base_uri": "https://localhost:8080/"
        },
        "outputId": "e3f6f36b-6697-443b-cd72-3f82355c4fd4"
      },
      "execution_count": null,
      "outputs": [
        {
          "output_type": "stream",
          "name": "stdout",
          "text": [
            "Mounted at /Neural_Networks\n"
          ]
        }
      ]
    },
    {
      "cell_type": "markdown",
      "source": [
        "### Predicting the diabetes disease\n",
        "### Accuracy with 1 hidden layer is around 65%"
      ],
      "metadata": {
        "id": "oh2yYnM0Dsz7"
      }
    },
    {
      "cell_type": "code",
      "source": [
        "import keras\n",
        "import pandas\n",
        "from keras.models import Sequential\n",
        "from keras.layers.core import Dense, Activation\n",
        "from sklearn.model_selection import train_test_split\n",
        "import pandas as pd\n",
        "import numpy as np\n",
        "\n",
        "path_to_diabetes_csv = '/Neural_Networks/MyDrive/Colab Notebooks/NN/diabetes.csv'\n",
        "dataset = pd.read_csv(path_to_diabetes_csv, header=None).values\n",
        "\n",
        "X_train, X_test, Y_train, Y_test = train_test_split(dataset[:,0:8], dataset[:,8], test_size=0.25, random_state=87)\n",
        "my_first_nn = Sequential() # create model\n",
        "my_first_nn.add(Dense(20, input_dim=8, activation='relu')) # hidden layer\n",
        "my_first_nn.add(Dense(1, activation='sigmoid')) # output layer\n",
        "my_first_nn.compile(loss='binary_crossentropy', optimizer='adam', metrics=['acc'])\n",
        "my_first_nn_fitted = my_first_nn.fit(X_train, Y_train, epochs=100,initial_epoch=0,verbose=0)\n",
        "print(my_first_nn.summary())\n",
        "print(my_first_nn.evaluate(X_test, Y_test))"
      ],
      "metadata": {
        "colab": {
          "base_uri": "https://localhost:8080/"
        },
        "id": "YGUuXcJHy3b8",
        "outputId": "c0a3667c-d143-4b2b-ff89-9885a8cfa36e"
      },
      "execution_count": null,
      "outputs": [
        {
          "output_type": "stream",
          "name": "stdout",
          "text": [
            "Model: \"sequential\"\n",
            "_________________________________________________________________\n",
            " Layer (type)                Output Shape              Param #   \n",
            "=================================================================\n",
            " dense (Dense)               (None, 20)                180       \n",
            "                                                                 \n",
            " dense_1 (Dense)             (None, 1)                 21        \n",
            "                                                                 \n",
            "=================================================================\n",
            "Total params: 201\n",
            "Trainable params: 201\n",
            "Non-trainable params: 0\n",
            "_________________________________________________________________\n",
            "None\n",
            "6/6 [==============================] - 0s 2ms/step - loss: 0.6686 - acc: 0.6510\n",
            "[0.6686444878578186, 0.6510416865348816]\n"
          ]
        }
      ]
    },
    {
      "cell_type": "markdown",
      "source": [
        "### 1. Add more Dense layers to the existing code and check how the accuracy changes\n",
        "\n",
        "### Accuracy with 4 hidden layers is around 70%"
      ],
      "metadata": {
        "id": "3x2Iq5x8zDhR"
      }
    },
    {
      "cell_type": "code",
      "source": [
        "import keras\n",
        "import pandas\n",
        "from keras.models import Sequential\n",
        "from keras.layers.core import Dense, Activation\n",
        "from sklearn.model_selection import train_test_split\n",
        "import pandas as pd\n",
        "import numpy as np\n",
        "\n",
        "path_to_diabetes_csv = '/Neural_Networks/MyDrive/Colab Notebooks/NN/diabetes.csv'\n",
        "diabetes_dataset = pd.read_csv(path_to_diabetes_csv, header=None).values\n",
        "\n",
        "X_train, X_test, Y_train, Y_test = train_test_split(diabetes_dataset[:,0:8], diabetes_dataset[:,8],test_size=0.25, random_state=87)\n",
        "\n",
        "diabetes_nn = Sequential() # create model\n",
        "diabetes_nn.add(Dense(20, input_dim=8, activation='relu')) #  # hidden layer 1\n",
        "diabetes_nn.add(Dense(20, activation='relu')) # hidden layer 2\n",
        "diabetes_nn.add(Dense(20, activation='relu')) # hidden layer 3\n",
        "diabetes_nn.add(Dense(20, activation='relu')) # hidden layer 4\n",
        "diabetes_nn.add(Dense(1, activation='sigmoid')) # output layer\n",
        "diabetes_nn.compile(loss='binary_crossentropy', optimizer='adam', metrics=['acc'])\n",
        "diabetes_nn_fitted = diabetes_nn.fit(X_train, Y_train, epochs=100,initial_epoch=0,verbose=0)\n",
        "print(diabetes_nn.summary())\n",
        "print(diabetes_nn.evaluate(X_test, Y_test))"
      ],
      "metadata": {
        "colab": {
          "base_uri": "https://localhost:8080/"
        },
        "id": "iuzHorBiDciq",
        "outputId": "9563c733-dff1-4c16-fae3-6f2a2d1508f0"
      },
      "execution_count": null,
      "outputs": [
        {
          "output_type": "stream",
          "name": "stdout",
          "text": [
            "Model: \"sequential_14\"\n",
            "_________________________________________________________________\n",
            " Layer (type)                Output Shape              Param #   \n",
            "=================================================================\n",
            " dense_53 (Dense)            (None, 20)                180       \n",
            "                                                                 \n",
            " dense_54 (Dense)            (None, 20)                420       \n",
            "                                                                 \n",
            " dense_55 (Dense)            (None, 20)                420       \n",
            "                                                                 \n",
            " dense_56 (Dense)            (None, 20)                420       \n",
            "                                                                 \n",
            " dense_57 (Dense)            (None, 1)                 21        \n",
            "                                                                 \n",
            "=================================================================\n",
            "Total params: 1,461\n",
            "Trainable params: 1,461\n",
            "Non-trainable params: 0\n",
            "_________________________________________________________________\n",
            "None\n",
            "6/6 [==============================] - 0s 3ms/step - loss: 0.5981 - acc: 0.7188\n",
            "[0.5981010794639587, 0.71875]\n"
          ]
        }
      ]
    },
    {
      "cell_type": "markdown",
      "source": [
        "### 2. Change the data source to Breast Cancer dataset * available in the source code folder and make required changes.Report accuracy of the model.\n",
        "\n",
        "### Accuracy without scaling is around 65%"
      ],
      "metadata": {
        "id": "1uGGBe3Yzmd2"
      }
    },
    {
      "cell_type": "code",
      "source": [
        "import keras\n",
        "import pandas\n",
        "from keras.models import Sequential\n",
        "from keras.layers.core import Dense, Activation\n",
        "from sklearn.model_selection import train_test_split\n",
        "import pandas as pd\n",
        "import numpy as np\n",
        "from sklearn.preprocessing import LabelEncoder\n",
        "\n",
        "path_to_BreastCancer_csv = '/Neural_Networks/MyDrive/Colab Notebooks/NN/breastcancer.csv'\n",
        "bc_dataset = pd.read_csv(path_to_BreastCancer_csv)\n",
        "bc_dataset=bc_dataset.dropna(how='all', axis=1) #drop empty column\n",
        "\n",
        "labelencoder = LabelEncoder() # one hot encoding\n",
        "bc_dataset['diagnosis'] = labelencoder.fit_transform(bc_dataset['diagnosis']) # Assigning numerical values \n",
        "\n",
        "predictors = bc_dataset.drop([\"id\",\"diagnosis\",],axis=1)\n",
        "target = bc_dataset[\"diagnosis\"]\n",
        "X_train, X_test, Y_train, Y_test = train_test_split(predictors,target, test_size=0.25, random_state=87)\n",
        "\n",
        "# print(X_train.shape,X_test.shape)\n",
        "# print(Y_train.shape,Y_test.shape)\n",
        "\n",
        "bc_dataset_nn = Sequential() # create model\n",
        "bc_dataset_nn.add(Dense(40, input_dim=30, activation='relu')) # hidden layer\n",
        "bc_dataset_nn.add(Dense(1, activation='sigmoid')) # output layer\n",
        "bc_dataset_nn.compile(loss='binary_crossentropy', optimizer='SGD', metrics=['acc'])\n",
        "bc_dataset_nn_fitted = bc_dataset_nn.fit(X_train, Y_train, epochs=100,initial_epoch=0,verbose=0)\n",
        "print(bc_dataset_nn.summary())\n",
        "print(bc_dataset_nn.evaluate(X_test, Y_test))"
      ],
      "metadata": {
        "id": "Wjba8LrR0EJi",
        "colab": {
          "base_uri": "https://localhost:8080/"
        },
        "outputId": "efe738ea-282f-4a94-d079-2645826e4ce2"
      },
      "execution_count": null,
      "outputs": [
        {
          "output_type": "stream",
          "name": "stdout",
          "text": [
            "Model: \"sequential_7\"\n",
            "_________________________________________________________________\n",
            " Layer (type)                Output Shape              Param #   \n",
            "=================================================================\n",
            " dense_28 (Dense)            (None, 40)                1240      \n",
            "                                                                 \n",
            " dense_29 (Dense)            (None, 1)                 41        \n",
            "                                                                 \n",
            "=================================================================\n",
            "Total params: 1,281\n",
            "Trainable params: 1,281\n",
            "Non-trainable params: 0\n",
            "_________________________________________________________________\n",
            "None\n",
            "5/5 [==============================] - 0s 3ms/step - loss: 0.6497 - acc: 0.6503\n",
            "[0.6497047543525696, 0.6503496766090393]\n"
          ]
        }
      ]
    },
    {
      "cell_type": "markdown",
      "source": [
        "### 3. Normalize the data before feeding the data to the model and check how the normalization change your accuracy.\n",
        "### Accuracy with normalization is around 97%"
      ],
      "metadata": {
        "id": "_uxcI5AYN3cQ"
      }
    },
    {
      "cell_type": "code",
      "source": [
        "import keras\n",
        "import pandas\n",
        "from keras.models import Sequential\n",
        "from keras.layers.core import Dense, Activation\n",
        "from sklearn.model_selection import train_test_split\n",
        "import pandas as pd\n",
        "import numpy as np\n",
        "from sklearn.preprocessing import LabelEncoder\n",
        "from sklearn.preprocessing import StandardScaler\n",
        "\n",
        "bc_dataset = pd.read_csv(path_to_BreastCancer_csv)\n",
        "bc_dataset=bc_dataset.dropna(how='all', axis=1) #drop empty column\n",
        "\n",
        "labelencoder = LabelEncoder() # one hot encoding\n",
        "bc_dataset['diagnosis'] = labelencoder.fit_transform(bc_dataset['diagnosis']) # Assigning numerical values \n",
        "\n",
        "predictors = bc_dataset.drop([\"id\",\"diagnosis\",],axis=1)\n",
        "target = bc_dataset[\"diagnosis\"]\n",
        "X_train, X_test, Y_train, Y_test = train_test_split(predictors,target, test_size=0.25, random_state=87)\n",
        "\n",
        "sc = StandardScaler()\n",
        "X_train_std = sc.fit_transform(X_train) # transform training data\n",
        "X_test_std= sc.fit_transform(X_test) # transform testing data\n",
        "\n",
        "bc_dataset_nn = Sequential() # create model\n",
        "bc_dataset_nn.add(Dense(40, input_dim=30, activation='relu')) # hidden layer\n",
        "bc_dataset_nn.add(Dense(1, activation='sigmoid')) # output layer\n",
        "bc_dataset_nn.compile(loss='binary_crossentropy', optimizer='SGD', metrics=['acc'])\n",
        "bc_dataset_nn_fitted = bc_dataset_nn.fit(X_train_std, Y_train, epochs=100,initial_epoch=0,verbose=0)\n",
        "print(bc_dataset_nn.summary())\n",
        "print(bc_dataset_nn.evaluate(X_test_std, Y_test))"
      ],
      "metadata": {
        "colab": {
          "base_uri": "https://localhost:8080/"
        },
        "id": "4LeT_xyqOC_b",
        "outputId": "b5a05d42-3c84-44ab-8104-fbed9df674ad"
      },
      "execution_count": null,
      "outputs": [
        {
          "output_type": "stream",
          "name": "stdout",
          "text": [
            "Model: \"sequential_8\"\n",
            "_________________________________________________________________\n",
            " Layer (type)                Output Shape              Param #   \n",
            "=================================================================\n",
            " dense_30 (Dense)            (None, 40)                1240      \n",
            "                                                                 \n",
            " dense_31 (Dense)            (None, 1)                 41        \n",
            "                                                                 \n",
            "=================================================================\n",
            "Total params: 1,281\n",
            "Trainable params: 1,281\n",
            "Non-trainable params: 0\n",
            "_________________________________________________________________\n",
            "None\n",
            "5/5 [==============================] - 0s 3ms/step - loss: 0.1020 - acc: 0.9790\n",
            "[0.10198274999856949, 0.9790209531784058]\n"
          ]
        }
      ]
    },
    {
      "cell_type": "markdown",
      "source": [
        "## Use Image Classification on the hand written digits data set (mnist)\n",
        "\n",
        "###Accuracy with scaling is around 98%"
      ],
      "metadata": {
        "id": "OX5zN61-TDIK"
      }
    },
    {
      "cell_type": "code",
      "source": [
        "from keras import Sequential\n",
        "from keras.datasets import mnist\n",
        "import numpy as np\n",
        "from keras.layers import Dense\n",
        "from keras.utils import to_categorical\n",
        "import matplotlib.pyplot as plt\n",
        "\n",
        "(train_images,train_labels),(test_images, test_labels) = mnist.load_data()\n",
        "\n",
        "#1. convert each image of shape 28*28 to 784 dimensional which will be fed to the network as a single feature\n",
        "dimData = np.prod(train_images.shape[1:])\n",
        "train_data = train_images.reshape(train_images.shape[0],dimData)\n",
        "test_data = test_images.reshape(test_images.shape[0],dimData)\n",
        "\n",
        "#convert data to float and scale values between 0 and 1\n",
        "train_data = train_data.astype('float')\n",
        "test_data = test_data.astype('float')\n",
        "#scale data\n",
        "train_data /=255.0\n",
        "test_data /=255.0\n",
        "#change the labels frominteger to one-hot encoding. to_categorical is doing the same thing as LabelEncoder()\n",
        "train_labels_one_hot = to_categorical(train_labels)\n",
        "test_labels_one_hot = to_categorical(test_labels)\n",
        "\n",
        "#creating network\n",
        "model = Sequential()\n",
        "model.add(Dense(512, activation='relu', input_shape=(dimData,)))\n",
        "model.add(Dense(512, activation='relu'))\n",
        "model.add(Dense(10, activation='softmax'))\n",
        "\n",
        "model.compile(optimizer='rmsprop', loss='categorical_crossentropy', metrics=['accuracy'])\n",
        "history = model.fit(train_data, train_labels_one_hot, batch_size=256, epochs=10, verbose=0,validation_data=(test_data, test_labels_one_hot))\n",
        "print(model.summary())\n",
        "print(model.evaluate(test_data, test_labels_one_hot))"
      ],
      "metadata": {
        "colab": {
          "base_uri": "https://localhost:8080/"
        },
        "id": "y36i2tQrTcVL",
        "outputId": "7f2a3a00-8f73-48da-d261-2b43b2bddcfd"
      },
      "execution_count": null,
      "outputs": [
        {
          "output_type": "stream",
          "name": "stdout",
          "text": [
            "Model: \"sequential_9\"\n",
            "_________________________________________________________________\n",
            " Layer (type)                Output Shape              Param #   \n",
            "=================================================================\n",
            " dense_32 (Dense)            (None, 512)               401920    \n",
            "                                                                 \n",
            " dense_33 (Dense)            (None, 512)               262656    \n",
            "                                                                 \n",
            " dense_34 (Dense)            (None, 10)                5130      \n",
            "                                                                 \n",
            "=================================================================\n",
            "Total params: 669,706\n",
            "Trainable params: 669,706\n",
            "Non-trainable params: 0\n",
            "_________________________________________________________________\n",
            "None\n",
            "313/313 [==============================] - 1s 3ms/step - loss: 0.0694 - accuracy: 0.9836\n",
            "[0.06944768130779266, 0.9836000204086304]\n"
          ]
        }
      ]
    },
    {
      "cell_type": "markdown",
      "source": [
        "### 1. Plot the loss and accuracy for both training data and validation data using the history object in the source code."
      ],
      "metadata": {
        "id": "yjSqZ6rXcOcD"
      }
    },
    {
      "cell_type": "code",
      "source": [
        "# plot history for accuracy\n",
        "plt.plot(history.history['accuracy'])\n",
        "plt.plot(history.history['val_accuracy'])\n",
        "plt.title('model accuracy')\n",
        "plt.ylabel('accuracy')\n",
        "plt.xlabel('epoch')\n",
        "plt.legend(['train', 'validation'], loc='lower right')\n",
        "plt.show()\n",
        "# plot history for loss\n",
        "plt.plot(history.history['loss'])\n",
        "plt.plot(history.history['val_loss'])\n",
        "plt.title('model loss')\n",
        "plt.ylabel('loss')\n",
        "plt.xlabel('epoch')\n",
        "plt.legend(['train', 'validation'], loc='upper right')\n",
        "plt.show()"
      ],
      "metadata": {
        "colab": {
          "base_uri": "https://localhost:8080/",
          "height": 573
        },
        "id": "FjrsaHBTcPaA",
        "outputId": "ea87cdb4-0b7e-4863-b58a-d84b00ae5977"
      },
      "execution_count": null,
      "outputs": [
        {
          "output_type": "display_data",
          "data": {
            "text/plain": [
              "<Figure size 432x288 with 1 Axes>"
            ],
            "image/png": "[encoded data removed]"
          },
          "metadata": {
            "needs_background": "light"
          }
        },
        {
          "output_type": "display_data",
          "data": {
            "text/plain": [
              "<Figure size 432x288 with 1 Axes>"
            ],
            "image/png": "[encoded data removed]"
          },
          "metadata": {
            "needs_background": "light"
          }
        }
      ]
    },
    {
      "cell_type": "markdown",
      "source": [
        "### 2. Plot one of the images in the test data, and then do inferencing to check what is the prediction of the model on that single image."
      ],
      "metadata": {
        "id": "3Ku5uAEJlri_"
      }
    },
    {
      "cell_type": "code",
      "source": [
        "# plotting image from test_data[10]\n",
        "plt.imshow(test_data[10].reshape(28,28))\n",
        "plt.title('Ground Truth : {}'.format(test_labels[10]))\n"
      ],
      "metadata": {
        "colab": {
          "base_uri": "https://localhost:8080/",
          "height": 299
        },
        "id": "V2Dfex6rlz76",
        "outputId": "b491097a-e64c-46d6-f07e-830244410568"
      },
      "execution_count": null,
      "outputs": [
        {
          "output_type": "stream",
          "name": "stdout",
          "text": [
            "The ground truth is 0 and the Model predicted output as [0]\n"
          ]
        },
        {
          "output_type": "display_data",
          "data": {
            "text/plain": [
              "<Figure size 432x288 with 1 Axes>"
            ],
            "image/png": "[encoded data removed]"
          },
          "metadata": {
            "needs_background": "light"
          }
        }
      ]
    },
    {
      "cell_type": "code",
      "source": [
        "\n",
        "# Checking model prediction output on test_data[10]\n",
        "yhat=model.predict(test_data[10].reshape(1,784),verbose=0)\n",
        "predicted_output=np.argmax(yhat,axis=1)\n",
        "print(f\"The ground truth is {test_labels[10]} and the Model predicted output as {predicted_output}\")"
      ],
      "metadata": {
        "colab": {
          "base_uri": "https://localhost:8080/"
        },
        "id": "wH8q3R5P5sPI",
        "outputId": "b934d28d-3bb7-43ed-d9df-173a64fb0c9d"
      },
      "execution_count": null,
      "outputs": [
        {
          "output_type": "stream",
          "name": "stdout",
          "text": [
            "The ground truth is 0 and the Model predicted output as [0]\n"
          ]
        }
      ]
    },
    {
      "cell_type": "markdown",
      "source": [
        "### 3. We had used 2 hidden layers and Relu activation. Try to change the number of hidden layer and the activation to tanh or sigmoid and see what happens.\n",
        "\n",
        "### Accuracy with 4 hidden layers is around 97%"
      ],
      "metadata": {
        "id": "WTV5Pt4ljbOj"
      }
    },
    {
      "cell_type": "code",
      "source": [
        "from keras import Sequential\n",
        "from keras.datasets import mnist\n",
        "import numpy as np\n",
        "from keras.layers import Dense\n",
        "from keras.utils import to_categorical\n",
        "import matplotlib.pyplot as plt\n",
        "\n",
        "(train_images,train_labels),(test_images, test_labels) = mnist.load_data()\n",
        "\n",
        "#1. convert each image of shape 28*28 to 784 dimensional which will be fed to the network as a single feature\n",
        "dimData = np.prod(train_images.shape[1:])\n",
        "train_data = train_images.reshape(train_images.shape[0],dimData)\n",
        "test_data = test_images.reshape(test_images.shape[0],dimData)\n",
        "\n",
        "#convert data to float and scale values between 0 and 1\n",
        "train_data = train_data.astype('float')\n",
        "test_data = test_data.astype('float')\n",
        "#scale data\n",
        "train_data /=255.0\n",
        "test_data /=255.0\n",
        "#change the labels frominteger to one-hot encoding. to_categorical is doing the same thing as LabelEncoder()\n",
        "train_labels_one_hot = to_categorical(train_labels)\n",
        "test_labels_one_hot = to_categorical(test_labels)\n",
        "\n",
        "#creating network\n",
        "model = Sequential()\n",
        "model.add(Dense(512, activation='relu', input_shape=(dimData,)))\n",
        "model.add(Dense(512, activation='sigmoid'))\n",
        "model.add(Dense(512, activation='tanh'))\n",
        "model.add(Dense(512, activation='relu'))\n",
        "model.add(Dense(10, activation='softmax'))\n",
        "\n",
        "model.compile(optimizer='rmsprop', loss='categorical_crossentropy', metrics=['accuracy'])\n",
        "history = model.fit(train_data, train_labels_one_hot, batch_size=256, epochs=10, verbose=0,validation_data=(test_data, test_labels_one_hot))\n",
        "print(model.summary())\n",
        "print(model.evaluate(test_data, test_labels_one_hot))\n"
      ],
      "metadata": {
        "colab": {
          "base_uri": "https://localhost:8080/"
        },
        "id": "psYuYtoLjl4S",
        "outputId": "7128bf79-3f82-45b4-f98f-140f62d47617"
      },
      "execution_count": null,
      "outputs": [
        {
          "output_type": "stream",
          "name": "stdout",
          "text": [
            "Model: \"sequential_10\"\n",
            "_________________________________________________________________\n",
            " Layer (type)                Output Shape              Param #   \n",
            "=================================================================\n",
            " dense_35 (Dense)            (None, 512)               401920    \n",
            "                                                                 \n",
            " dense_36 (Dense)            (None, 512)               262656    \n",
            "                                                                 \n",
            " dense_37 (Dense)            (None, 512)               262656    \n",
            "                                                                 \n",
            " dense_38 (Dense)            (None, 512)               262656    \n",
            "                                                                 \n",
            " dense_39 (Dense)            (None, 10)                5130      \n",
            "                                                                 \n",
            "=================================================================\n",
            "Total params: 1,195,018\n",
            "Trainable params: 1,195,018\n",
            "Non-trainable params: 0\n",
            "_________________________________________________________________\n",
            "None\n",
            "313/313 [==============================] - 1s 4ms/step - loss: 0.1100 - accuracy: 0.9721\n",
            "[0.10995418578386307, 0.972100019454956]\n"
          ]
        }
      ]
    },
    {
      "cell_type": "markdown",
      "source": [
        "### 4. Run the same code without scaling the images and check the performance\n",
        "### Accuracy without scaling is around 96%"
      ],
      "metadata": {
        "id": "BaSSM8xthxrn"
      }
    },
    {
      "cell_type": "code",
      "source": [
        "from keras import Sequential\n",
        "from keras.datasets import mnist\n",
        "import numpy as np\n",
        "from keras.layers import Dense\n",
        "from keras.utils import to_categorical\n",
        "import matplotlib.pyplot as plt\n",
        "\n",
        "(train_images,train_labels),(test_images, test_labels) = mnist.load_data()\n",
        "\n",
        "#1. convert each image of shape 28*28 to 784 dimensional which will be fed to the network as a single feature\n",
        "dimData = np.prod(train_images.shape[1:])\n",
        "\n",
        "train_data = train_images.reshape(train_images.shape[0],dimData)\n",
        "test_data = test_images.reshape(test_images.shape[0],dimData)\n",
        "\n",
        "#change the labels frominteger to one-hot encoding. to_categorical is doing the same thing as LabelEncoder()\n",
        "train_labels_one_hot = to_categorical(train_labels)\n",
        "test_labels_one_hot = to_categorical(test_labels)\n",
        "\n",
        "#creating network\n",
        "model = Sequential()\n",
        "model.add(Dense(512, activation='relu', input_shape=(dimData,)))\n",
        "model.add(Dense(512, activation='relu'))\n",
        "model.add(Dense(10, activation='softmax'))\n",
        "\n",
        "model.compile(optimizer='rmsprop', loss='categorical_crossentropy', metrics=['accuracy'])\n",
        "history = model.fit(train_data, train_labels_one_hot, batch_size=256, epochs=10, verbose=0,validation_data=(test_data, test_labels_one_hot))\n",
        "print(model.summary())\n",
        "print(model.evaluate(test_data, test_labels_one_hot))\n"
      ],
      "metadata": {
        "colab": {
          "base_uri": "https://localhost:8080/"
        },
        "id": "0gZ0VwdCh3-9",
        "outputId": "12af5126-73c3-4329-ce6a-13ff28b63e5d"
      },
      "execution_count": null,
      "outputs": [
        {
          "output_type": "stream",
          "name": "stdout",
          "text": [
            "Model: \"sequential_11\"\n",
            "_________________________________________________________________\n",
            " Layer (type)                Output Shape              Param #   \n",
            "=================================================================\n",
            " dense_40 (Dense)            (None, 512)               401920    \n",
            "                                                                 \n",
            " dense_41 (Dense)            (None, 512)               262656    \n",
            "                                                                 \n",
            " dense_42 (Dense)            (None, 10)                5130      \n",
            "                                                                 \n",
            "=================================================================\n",
            "Total params: 669,706\n",
            "Trainable params: 669,706\n",
            "Non-trainable params: 0\n",
            "_________________________________________________________________\n",
            "None\n",
            "313/313 [==============================] - 1s 3ms/step - loss: 0.4066 - accuracy: 0.9655\n",
            "[0.4065878689289093, 0.965499997138977]\n"
          ]
        }
      ]
    }
  ]
}