{
 "cells": [
  {
   "cell_type": "markdown",
   "id": "e1f35ca4",
   "metadata": {},
   "source": [
    "## Spring 2023 : CS5720\n",
    "### Neural Networks & Deep Learning ICP_3 : Jahnavi Chadalavada (700728443)"
   ]
  },
  {
   "cell_type": "markdown",
   "id": "0a4efd00",
   "metadata": {},
   "source": [
    "## 1. Create a class Employee and then do the following\n",
    "#### • Create a data member to count the number of Employees\n",
    "#### • Create a constructor to initialize name, family, salary, department\n",
    "#### • Create a function to average salary\n",
    "#### • Create a Fulltime Employee class and it should inherit the properties of Employee class\n",
    "#### • Create the instances of Fulltime Employee class and Employee class and call their member functions."
   ]
  },
  {
   "cell_type": "code",
   "execution_count": 1,
   "id": "7309d802",
   "metadata": {},
   "outputs": [],
   "source": [
    "class Employee:\n",
    "    __no_of_employees=0\n",
    "    __total_salary=0\n",
    "    \n",
    "    def __init__(self, name,family,salary,department):\n",
    "        Employee.__no_of_employees=Employee.__no_of_employees+1\n",
    "        self.name = name\n",
    "        self.family = family\n",
    "        self.salary = salary\n",
    "        self.department = department\n",
    "        Employee.__total_salary = Employee.__total_salary+self.salary\n",
    "        \n",
    "    @staticmethod\n",
    "    def employee_count():\n",
    "        return print(\"\\nTotal Number of Employees : \",Employee.__no_of_employees)\n",
    "    \n",
    "    @staticmethod\n",
    "    def average_salary():\n",
    "        return print(\"Average salary of All Employees\",Employee.__total_salary / Employee.__no_of_employees)\n",
    "   \n",
    "        \n",
    "    def display_employee_info(self):\n",
    "        print(f\"\\n****Employee Details**** :\\nName : {self.name} \\nFamily : {self.family} \\nSalary : {self.salary} \\nDepartment : {self.department}\")\n"
   ]
  },
  {
   "cell_type": "code",
   "execution_count": 2,
   "id": "e01ddb80",
   "metadata": {},
   "outputs": [],
   "source": [
    "class FulltimeEmployee(Employee):\n",
    "    \n",
    "    __no_of_fulltime_employees=0\n",
    "    __total_salary=0\n",
    "    \n",
    "    def __init__(self,name,family,salary,department):\n",
    "        FulltimeEmployee.__no_of_fulltime_employees=FulltimeEmployee.__no_of_fulltime_employees+1\n",
    "        FulltimeEmployee.__total_salary = FulltimeEmployee.__total_salary+salary\n",
    "        super().__init__(name,family,salary,department)\n",
    "    \n",
    "    def is_fulltime_employee(self):\n",
    "        print(f\"{self.name} {self.family} is FullTime Employee\")\n",
    "\n",
    "    @staticmethod\n",
    "    def employee_count():\n",
    "        return print(\"\\nTotal Number of FullTime Employees : \",FulltimeEmployee.__no_of_fulltime_employees)\n",
    "    \n",
    "    @staticmethod\n",
    "    def average_salary():\n",
    "        return print(\"Average salary of FullTime Employees\",FulltimeEmployee.__total_salary / FulltimeEmployee.__no_of_fulltime_employees)\n",
    "   "
   ]
  },
  {
   "cell_type": "code",
   "execution_count": 3,
   "id": "62eddf68",
   "metadata": {},
   "outputs": [
    {
     "name": "stdout",
     "output_type": "stream",
     "text": [
      "\n",
      "****Employee Details**** :\n",
      "Name : John \n",
      "Family : Williams \n",
      "Salary : 5000 \n",
      "Department : IT\n",
      "\n",
      "****Employee Details**** :\n",
      "Name : Destiny \n",
      "Family : Martin \n",
      "Salary : 7500 \n",
      "Department : IT\n",
      "Destiny Martin is FullTime Employee\n",
      "\n",
      "Total Number of Employees :  10\n",
      "Average salary of All Employees 8050.0\n",
      "\n",
      "Total Number of FullTime Employees :  5\n",
      "Average salary of FullTime Employees 7500.0\n"
     ]
    }
   ],
   "source": [
    "john = Employee(\"John\",\"Williams\",5000,\"IT\")\n",
    "tom = Employee(\"Tom\",\"Smith\",8000,\"HR\")\n",
    "jerry = Employee(\"Jerry\",\"Johnson\",6000,\"Accounts\")\n",
    "david = Employee(\"David\",\"Richards\",9000,\"Finance\")\n",
    "julie = Employee(\"Julie\",\"Martin\",15000,\"IT\")\n",
    "\n",
    "john.display_employee_info()\n",
    "\n",
    "kevin = FulltimeEmployee(\"Kevin\",\"Williams\",9000,\"IT\")\n",
    "natasha = FulltimeEmployee(\"Natasha\",\"Smith\",7000,\"HR\")\n",
    "sophie = FulltimeEmployee(\"Sophie\",\"Johnson\",10000,\"Accounts\")\n",
    "amy = FulltimeEmployee(\"Amy\",\"Richards\",4000,\"Finance\")\n",
    "destiny = FulltimeEmployee(\"Destiny\",\"Martin\",7500,\"IT\")\n",
    "\n",
    "destiny.display_employee_info()\n",
    "destiny.is_fulltime_employee()\n",
    "\n",
    "Employee.employee_count()\n",
    "Employee.average_salary()\n",
    "\n",
    "FulltimeEmployee.employee_count()\n",
    "FulltimeEmployee.average_salary()"
   ]
  },
  {
   "cell_type": "markdown",
   "id": "750a80d4",
   "metadata": {},
   "source": [
    "## 2. Numpy\n",
    "\n",
    "#### Using NumPy create random vector of size 20 having only float in the range 1-20. "
   ]
  },
  {
   "cell_type": "code",
   "execution_count": 4,
   "id": "63baad16",
   "metadata": {
    "scrolled": true
   },
   "outputs": [
    {
     "name": "stdout",
     "output_type": "stream",
     "text": [
      "[18.78445616  8.68894756 11.56510356  2.72486691  4.25105668 17.36096306\n",
      "  2.45370507 17.13850476 15.41810492 14.13017637  1.5799388  14.03257593\n",
      "  2.66705713 19.62284672 19.00587859 15.6525134  19.65967879  4.2423449\n",
      "  5.93219885 17.79027902]\n"
     ]
    },
    {
     "data": {
      "text/plain": [
       "(20,)"
      ]
     },
     "execution_count": 4,
     "metadata": {},
     "output_type": "execute_result"
    }
   ],
   "source": [
    "import numpy as np\n",
    "\n",
    "random_vector = np.random.uniform(1,20,20)\n",
    "\n",
    "print(random_vector)\n",
    "\n",
    "random_vector.shape"
   ]
  },
  {
   "cell_type": "markdown",
   "id": "3bc68e2e",
   "metadata": {},
   "source": [
    "#### Then reshape the array to 4 by 5 "
   ]
  },
  {
   "cell_type": "code",
   "execution_count": 5,
   "id": "1c7a07da",
   "metadata": {},
   "outputs": [
    {
     "name": "stdout",
     "output_type": "stream",
     "text": [
      "[[18.78445616  8.68894756 11.56510356  2.72486691  4.25105668]\n",
      " [17.36096306  2.45370507 17.13850476 15.41810492 14.13017637]\n",
      " [ 1.5799388  14.03257593  2.66705713 19.62284672 19.00587859]\n",
      " [15.6525134  19.65967879  4.2423449   5.93219885 17.79027902]]\n"
     ]
    },
    {
     "data": {
      "text/plain": [
       "(4, 5)"
      ]
     },
     "execution_count": 5,
     "metadata": {},
     "output_type": "execute_result"
    }
   ],
   "source": [
    "reshape_array=random_vector.reshape(4,5)\n",
    "\n",
    "print(reshape_array)\n",
    "\n",
    "reshape_array.shape"
   ]
  },
  {
   "cell_type": "markdown",
   "id": "c20749bb",
   "metadata": {},
   "source": [
    "#### Then replace the max in each row by 0 (axis=1)"
   ]
  },
  {
   "cell_type": "code",
   "execution_count": 6,
   "id": "454d6f97",
   "metadata": {},
   "outputs": [
    {
     "name": "stdout",
     "output_type": "stream",
     "text": [
      "[[ 0.          8.68894756 11.56510356  2.72486691  4.25105668]\n",
      " [ 0.          2.45370507 17.13850476 15.41810492 14.13017637]\n",
      " [ 1.5799388  14.03257593  2.66705713  0.         19.00587859]\n",
      " [15.6525134   0.          4.2423449   5.93219885 17.79027902]]\n"
     ]
    }
   ],
   "source": [
    "replace_max=np.where(np.isin(reshape_array,np.amax(reshape_array, axis=1)), 0, reshape_array)\n",
    "\n",
    "print(replace_max)"
   ]
  },
  {
   "cell_type": "code",
   "execution_count": null,
   "id": "71fca613",
   "metadata": {},
   "outputs": [],
   "source": []
  }
 ],
 "metadata": {
  "kernelspec": {
   "display_name": "Python 3.9 (tensorflow)",
   "language": "python",
   "name": "tensorflow"
  },
  "language_info": {
   "codemirror_mode": {
    "name": "ipython",
    "version": 3
   },
   "file_extension": ".py",
   "mimetype": "text/x-python",
   "name": "python",
   "nbconvert_exporter": "python",
   "pygments_lexer": "ipython3",
   "version": "3.9.13"
  }
 },
 "nbformat": 4,
 "nbformat_minor": 5
}
