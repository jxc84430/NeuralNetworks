{
 "cells": [
  {
   "cell_type": "markdown",
   "id": "e1f35ca4",
   "metadata": {},
   "source": [
    "## Spring 2023 : CS5720\n",
    "### Neural Networks & Deep Learning ICP_5 : Jahnavi Chadalavada (700728443)"
   ]
  },
  {
   "cell_type": "markdown",
   "id": "9b90acae",
   "metadata": {},
   "source": [
    "## 1. Implement Naïve Bayes method using scikit-learn library "
   ]
  },
  {
   "cell_type": "markdown",
   "id": "8fb38c31",
   "metadata": {},
   "source": [
    "#### Use dataset available with name glass"
   ]
  },
  {
   "cell_type": "code",
   "execution_count": 1,
   "id": "35ef4a30",
   "metadata": {},
   "outputs": [
    {
     "name": "stdout",
     "output_type": "stream",
     "text": [
      "<class 'pandas.core.frame.DataFrame'>\n",
      "RangeIndex: 214 entries, 0 to 213\n",
      "Data columns (total 10 columns):\n",
      " #   Column  Non-Null Count  Dtype  \n",
      "---  ------  --------------  -----  \n",
      " 0   RI      214 non-null    float64\n",
      " 1   Na      214 non-null    float64\n",
      " 2   Mg      214 non-null    float64\n",
      " 3   Al      214 non-null    float64\n",
      " 4   Si      214 non-null    float64\n",
      " 5   K       214 non-null    float64\n",
      " 6   Ca      214 non-null    float64\n",
      " 7   Ba      214 non-null    float64\n",
      " 8   Fe      214 non-null    float64\n",
      " 9   Type    214 non-null    int64  \n",
      "dtypes: float64(9), int64(1)\n",
      "memory usage: 16.8 KB\n"
     ]
    }
   ],
   "source": [
    "import pandas as pd\n",
    "dataset = pd.read_csv(\"glass.csv\")\n",
    "dataset.info()"
   ]
  },
  {
   "cell_type": "markdown",
   "id": "fdf67310",
   "metadata": {},
   "source": [
    "#### Use train_test_split to create training and testing part "
   ]
  },
  {
   "cell_type": "code",
   "execution_count": 2,
   "id": "8ab63736",
   "metadata": {},
   "outputs": [
    {
     "name": "stdout",
     "output_type": "stream",
     "text": [
      "(149, 9) (65, 9)\n",
      "(149,) (65,)\n"
     ]
    }
   ],
   "source": [
    "from sklearn.model_selection import train_test_split\n",
    "\n",
    "predictors = dataset.drop(\"Type\",axis=1)\n",
    "target = dataset[\"Type\"]\n",
    "\n",
    "X_train,X_test,Y_train,Y_test = train_test_split(predictors,target,test_size=0.30,random_state=0)\n",
    "\n",
    "print(X_train.shape,X_test.shape)\n",
    "print(Y_train.shape,Y_test.shape)"
   ]
  },
  {
   "cell_type": "markdown",
   "id": "534d3401",
   "metadata": {},
   "source": [
    "#### check if dataset follows normal/Gaussian distribution"
   ]
  },
  {
   "cell_type": "code",
   "execution_count": 3,
   "id": "fee601c5",
   "metadata": {},
   "outputs": [
    {
     "data": {
      "text/plain": [
       "HZResults(hz=6.912633667328901, pval=0.0, normal=False)"
      ]
     },
     "execution_count": 3,
     "metadata": {},
     "output_type": "execute_result"
    }
   ],
   "source": [
    "from pingouin import multivariate_normality\n",
    "\n",
    "multivariate_normality(predictors, alpha=.05)"
   ]
  },
  {
   "cell_type": "markdown",
   "id": "56df667a",
   "metadata": {},
   "source": [
    "#### since dataset does not follow normal distribution we can normalize the data"
   ]
  },
  {
   "cell_type": "code",
   "execution_count": 4,
   "id": "6fdea43a",
   "metadata": {},
   "outputs": [],
   "source": [
    "# data normalization with sklearn\n",
    "from sklearn.preprocessing import MinMaxScaler\n",
    "\n",
    "# fit scaler on training data\n",
    "norm = MinMaxScaler().fit(X_train)\n",
    "\n",
    "# transform training data\n",
    "X_train_norm = norm.transform(X_train)\n",
    "\n",
    "# transform testing data\n",
    "X_test_norm = norm.transform(X_test)"
   ]
  },
  {
   "cell_type": "code",
   "execution_count": 5,
   "id": "07452ced",
   "metadata": {},
   "outputs": [
    {
     "data": {
      "text/plain": [
       "(65,)"
      ]
     },
     "execution_count": 5,
     "metadata": {},
     "output_type": "execute_result"
    }
   ],
   "source": [
    "from sklearn.naive_bayes import GaussianNB\n",
    "\n",
    "nb = GaussianNB()\n",
    "\n",
    "nb.fit(X_train_norm,Y_train)\n",
    "\n",
    "Y_pred_nb = nb.predict(X_test_norm)\n",
    "\n",
    "Y_pred_nb.shape"
   ]
  },
  {
   "cell_type": "markdown",
   "id": "bc390268",
   "metadata": {},
   "source": [
    "#### Evaluate the model on test part using score and classification_report(y_true, y_pred)"
   ]
  },
  {
   "cell_type": "code",
   "execution_count": 6,
   "id": "d3f9eac4",
   "metadata": {},
   "outputs": [
    {
     "name": "stdout",
     "output_type": "stream",
     "text": [
      "The accuracy score achieved using Naive Bayes is: 46.15 %\n"
     ]
    }
   ],
   "source": [
    "from sklearn.metrics import accuracy_score\n",
    "\n",
    "score_nb = round(accuracy_score(Y_pred_nb,Y_test)*100,2)\n",
    "\n",
    "print(\"The accuracy score achieved using Naive Bayes is: \"+str(score_nb)+\" %\")"
   ]
  },
  {
   "cell_type": "markdown",
   "id": "c3960730",
   "metadata": {},
   "source": [
    "## 2. Implement linear SVM method using scikit library \n",
    "#### Use the same dataset above\n",
    "#### Use train_test_split to create training and testing part "
   ]
  },
  {
   "cell_type": "markdown",
   "id": "edb87475",
   "metadata": {},
   "source": [
    "#### SVM Model"
   ]
  },
  {
   "cell_type": "code",
   "execution_count": 7,
   "id": "113b17ef",
   "metadata": {},
   "outputs": [
    {
     "data": {
      "text/plain": [
       "(65,)"
      ]
     },
     "execution_count": 7,
     "metadata": {},
     "output_type": "execute_result"
    }
   ],
   "source": [
    "from sklearn import svm\n",
    "\n",
    "sv = svm.SVC(kernel='linear')\n",
    "\n",
    "sv.fit(X_train_norm,Y_train)\n",
    "\n",
    "Y_pred_svm = sv.predict(X_test_norm)\n",
    "\n",
    "Y_pred_svm.shape"
   ]
  },
  {
   "cell_type": "markdown",
   "id": "8f1cc60b",
   "metadata": {},
   "source": [
    "#### Evaluate the model on test part using score and classification_report(y_true, y_pred)"
   ]
  },
  {
   "cell_type": "code",
   "execution_count": 8,
   "id": "aa413f95",
   "metadata": {},
   "outputs": [
    {
     "name": "stdout",
     "output_type": "stream",
     "text": [
      "The accuracy score achieved using Linear SVM is: 58.46 %\n"
     ]
    }
   ],
   "source": [
    "score_svm = round(accuracy_score(Y_pred_svm,Y_test)*100,2)\n",
    "\n",
    "print(\"The accuracy score achieved using Linear SVM is: \"+str(score_svm)+\" %\")"
   ]
  },
  {
   "cell_type": "markdown",
   "id": "51ffbbb1",
   "metadata": {},
   "source": [
    "### Which algorithm you got better accuracy? Can you justify why?"
   ]
  },
  {
   "cell_type": "code",
   "execution_count": 9,
   "id": "bd51c834",
   "metadata": {},
   "outputs": [
    {
     "data": {
      "text/plain": [
       "<AxesSubplot: xlabel='Algorithms', ylabel='Accuracy score'>"
      ]
     },
     "execution_count": 9,
     "metadata": {},
     "output_type": "execute_result"
    },
    {
     "data": {
      "image/png": "[encoded data removed]",
      "text/plain": [
       "<Figure size 600x300 with 1 Axes>"
      ]
     },
     "metadata": {},
     "output_type": "display_data"
    }
   ],
   "source": [
    "import matplotlib.pyplot as plt\n",
    "import seaborn as sns\n",
    "%matplotlib inline\n",
    "\n",
    "sns.set(rc={'figure.figsize':(6,3)})\n",
    "scores = [score_nb,score_svm]\n",
    "algorithms = [\"Naive Bayes\",\"Support Vector Machine\"]    \n",
    "\n",
    "\n",
    "plt.xlabel(\"Algorithms\")\n",
    "plt.ylabel(\"Accuracy score\")\n",
    "\n",
    "sns.barplot(x=algorithms,y=scores)\n",
    "\n",
    "## Support Vector Machine is giving better accuracy.\n",
    "## For this particular dataset navies bayes is having low accuray.It may be due to Naive Bayes classifier assumes that the presence of a particular feature in aclass is unrelated to the presence of any other feature."
   ]
  },
  {
   "cell_type": "code",
   "execution_count": null,
   "id": "3bdee88d",
   "metadata": {},
   "outputs": [],
   "source": []
  }
 ],
 "metadata": {
  "kernelspec": {
   "display_name": "Python 3 (ipykernel)",
   "language": "python",
   "name": "python3"
  },
  "language_info": {
   "codemirror_mode": {
    "name": "ipython",
    "version": 3
   },
   "file_extension": ".py",
   "mimetype": "text/x-python",
   "name": "python",
   "nbconvert_exporter": "python",
   "pygments_lexer": "ipython3",
   "version": "3.9.12"
  }
 },
 "nbformat": 4,
 "nbformat_minor": 5
}
