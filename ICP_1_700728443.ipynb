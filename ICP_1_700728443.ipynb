{
 "cells": [
  {
   "cell_type": "markdown",
   "id": "a5488d93",
   "metadata": {},
   "source": [
    "## Spring 2023 : CS5720\n",
    "### Neural Networks & Deep Learning ICP_1 : Jahnavi Chadalavada (700728443)"
   ]
  },
  {
   "cell_type": "markdown",
   "id": "a18c8712",
   "metadata": {},
   "source": [
    "### 1. Write a python program for the following:\n",
    "\n",
    "– Input the string “Python” as a list of characters from console, delete at least 2 characters, reverse the resultant string and print it.\n",
    "\n",
    "Sample input: python\n",
    "\n",
    "Sample output: ntyp\n"
   ]
  },
  {
   "cell_type": "code",
   "execution_count": 1,
   "id": "7ba0776e",
   "metadata": {},
   "outputs": [
    {
     "name": "stdout",
     "output_type": "stream",
     "text": [
      "Please enter the input string : python\n",
      "Please enter at least 2 characters from input string to be deleted  : ho\n",
      "Reveresed string after deletion is  : ntyp\n"
     ]
    }
   ],
   "source": [
    "input_str = input(\"Please enter the input string : \")\n",
    "org_len = len(input_str)\n",
    "\n",
    "if input_str ==\"\" : #check for empty string\n",
    "    raise Exception(\"Input string cannot be empty.Please try again !!!\")\n",
    "\n",
    "delete_char = input(\"Please enter at least 2 characters from input string to be deleted  : \")\n",
    "\n",
    "for d in delete_char:\n",
    "    input_str = input_str.replace(d,\"\") #deletes the characters\n",
    "       \n",
    "\n",
    "if org_len-2 >= len(input_str): # checks if atleast 2 characters are deleted \n",
    "    print(\"Reveresed string after deletion is  :\" ,input_str[::-1]) #reverses the string\n",
    "else:\n",
    "    raise Exception(\"Please delete at least 2 characters from the input string and try again !!!\")\n"
   ]
  },
  {
   "cell_type": "markdown",
   "id": "6326ea46",
   "metadata": {},
   "source": [
    "#### – Take two numbers from user and perform at least 4 arithmetic operations on them."
   ]
  },
  {
   "cell_type": "code",
   "execution_count": 2,
   "id": "ab9edf3a",
   "metadata": {},
   "outputs": [
    {
     "name": "stdout",
     "output_type": "stream",
     "text": [
      "Please enter the num1 : 1\n",
      "Please enter the num2 : 2\n",
      "Addition of 1.0 and 2.0 is :  3.0\n",
      "Subtraction of 1.0 and 2.0 is :  -1.0\n",
      "Multiplication of 1.0 and 2.0 is :  2.0\n",
      "Division of 1.0 by 2.0 is :  0.5\n"
     ]
    }
   ],
   "source": [
    "try:\n",
    "    #accepts only numbers\n",
    "    num_1 = float(input(\"Please enter the num1 : \")) \n",
    "    num_2 = float(input(\"Please enter the num2 : \"))\n",
    "    \n",
    "    # Arithmetic operations \n",
    "    print(f\"Addition of {num_1} and {num_2} is : \", num_1+num_2)\n",
    "    print(f\"Subtraction of {num_1} and {num_2} is : \", num_1-num_2)\n",
    "    print(f\"Multiplication of {num_1} and {num_2} is : \", num_1*num_2)\n",
    "    if num_2 != 0:\n",
    "         print(f\"Division of {num_1} by {num_2} is : \", num_1/num_2)\n",
    "    else :\n",
    "         print(\"Cannot divide by zero\")\n",
    "except:\n",
    "    print(\"Only numbers are allowed.Please try again\")\n",
    "                \n"
   ]
  },
  {
   "cell_type": "markdown",
   "id": "fae3989c",
   "metadata": {},
   "source": [
    "### 2. Write a program that accepts a sentence and replace each occurrence of ‘python’ with ‘pythons’."
   ]
  },
  {
   "cell_type": "code",
   "execution_count": 3,
   "id": "ac0aab20",
   "metadata": {},
   "outputs": [
    {
     "name": "stdout",
     "output_type": "stream",
     "text": [
      "Please enter the input string : I love playing with python\n",
      "I love playing with pythons\n"
     ]
    }
   ],
   "source": [
    "input_str = input(\"Please enter the input string : \")\n",
    "\n",
    "if input_str ==\"\" :  #check for empty string\n",
    "    raise Exception(\"Input string cannot be empty.Please try again !!!\")\n",
    "    \n",
    "output = input_str.replace(\"python\",\"pythons\")\n",
    "print(output)"
   ]
  },
  {
   "cell_type": "markdown",
   "id": "bcc31455",
   "metadata": {},
   "source": [
    "### 3. Use the if statement conditions to write a program to print the letter grade based on an input class score. Use the grading scheme we are using in this class."
   ]
  },
  {
   "cell_type": "code",
   "execution_count": 4,
   "id": "5b11f720",
   "metadata": {},
   "outputs": [
    {
     "name": "stdout",
     "output_type": "stream",
     "text": [
      "Please enter the score : 429\n",
      "Grade for score 85.8% is B\n"
     ]
    }
   ],
   "source": [
    "try:\n",
    "    #accepts only integers\n",
    "    score = float(input(\"Please enter the score : \"))\n",
    "    percent = (score/500)*100\n",
    "    \n",
    "    #Conditions for grading the score obtained.\n",
    "    if percent >= 90:\n",
    "            print(f\"Grade for score {percent}% is A\")\n",
    "    elif percent >= 80:\n",
    "           print(f\"Grade for score {percent}% is B\")\n",
    "    elif percent >= 70:\n",
    "            print(f\"Grade for score {percent}% is C\")\n",
    "    elif percent >= 60:\n",
    "            print(f\"Grade for score {percent}% is D\")\n",
    "    else:\n",
    "            print(f\"Grade for score {percent}% is F\")\n",
    "except:\n",
    "    print(\"Only numbers are allowed.Please try again\")"
   ]
  },
  {
   "cell_type": "code",
   "execution_count": null,
   "id": "4aa019f2",
   "metadata": {},
   "outputs": [],
   "source": []
  }
 ],
 "metadata": {
  "kernelspec": {
   "display_name": "Python 3.9 (tensorflow)",
   "language": "python",
   "name": "tensorflow"
  },
  "language_info": {
   "codemirror_mode": {
    "name": "ipython",
    "version": 3
   },
   "file_extension": ".py",
   "mimetype": "text/x-python",
   "name": "python",
   "nbconvert_exporter": "python",
   "pygments_lexer": "ipython3",
   "version": "3.9.13"
  }
 },
 "nbformat": 4,
 "nbformat_minor": 5
}
